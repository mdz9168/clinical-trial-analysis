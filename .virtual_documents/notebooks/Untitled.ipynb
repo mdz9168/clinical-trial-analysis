
# Cell 1: the Setup
import pandas as pd
import matplotlib.pyplot as plt
import seaborn as sns

# loading cleaned data
df = pd.read_csv("../data/alzheimers_trials_clean.csv")
df.head()



# Cell 2: the basic info
df.info()
df.describe(include="all")



# Cell 3: the missing values heatmap
sns.heatmap(df.isnull(), cbar=False)
plt.title("Missing Data by Column")
plt.show()



# Cell 4: these are the top sponsors by count
df['sponsor'].value_counts().head(10).plot(kind='barh')
plt.title("Top 10 Sponsors by Number of Trials")
plt.xlabel("Trial Count")
plt.tight_layout()
plt.show()



# Cell 5: this is the study type distribution
df['study_type'].value_counts().plot(kind='bar')
plt.title("Study Type Distribution")
plt.ylabel("Count")
plt.show()



# Cell 6: Completion date trend
df['completion_date'] = pd.to_datetime(df['completion_date'], errors='coerce')
df['completion_year'] = df['completion_date'].dt.year
df['completion_year'].value_counts().sort_index().plot(kind='bar')
plt.title("Trials Completed Per Year")
plt.ylabel("Number of Trials")
plt.xlabel("Year")
plt.tight_layout()
plt.show()




