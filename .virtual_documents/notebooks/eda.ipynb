



# Cell 1: the Setup
import pandas as pd
import matplotlib.pyplot as plt
import seaborn as sns

# loading cleaned data
df = pd.read_csv("../data/alzheimers_trials_clean.csv")
df.head()






# Cell 2: the basic info
df.info()
df.describe(include="all")






# Cell 3: the missing values heatmap
plt.figure(figsize=(10, 5))
sns.heatmap(df.isnull(), cbar=False)
plt.title("Missing Data by Column")
plt.tight_layout()
plt.savefig("../reports/missing_data.png")
plt.show()






# Cell 4: these are the top sponsors by count
fig, ax = plt.subplots(figsize=(8, 5))
df['sponsor'].value_counts().head(10).plot(kind='barh', ax=ax)
ax.set_title("Top 10 Sponsors by Number of Trials")
ax.set_xlabel("Trial Count")
plt.tight_layout()
plt.savefig("../reports/top_sponsors.png")
plt.show()






# Cell 5: this is the study type distribution
fig, ax = plt.subplots()
df['study_type'].value_counts().plot(kind='bar', ax=ax)
ax.set_title("Study Type Distribution")
ax.set_ylabel("Count")
plt.tight_layout()
plt.savefig("../reports/study_type_distribution.png")
plt.show()






# Cell 6: Completion date trend
df['completion_date'] = pd.to_datetime(df['completion_date'], errors='coerce')
df['completion_year'] = df['completion_date'].dt.year

fig, ax = plt.subplots()
df['completion_year'].value_counts().sort_index().plot(kind='bar', ax=ax)
ax.set_title("Trials Completed Per Year")
ax.set_ylabel("Number of Trials")
ax.set_xlabel("Year")
plt.tight_layout()
plt.savefig("../reports/completion_timeline.png")
plt.show()





